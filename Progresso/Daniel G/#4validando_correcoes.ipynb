{
 "cells": [
  {
   "cell_type": "markdown",
   "id": "b4f13318",
   "metadata": {},
   "source": [
    "Vamos analisar as mudanças "
   ]
  }
 ],
 "metadata": {
  "language_info": {
   "name": "python"
  }
 },
 "nbformat": 4,
 "nbformat_minor": 5
}
