{
 "cells": [
  {
   "cell_type": "code",
   "execution_count": 6,
   "metadata": {},
   "outputs": [],
   "source": [
    "import pandas as pd\n",
    "import matplotlib.pyplot as plt\n",
    "import seaborn as sns\n",
    "import matplotlib.pyplot as plt\n",
    "from sklearn.neighbors import KNeighborsRegressor\n",
    "from sklearn.linear_model import LinearRegression\n",
    "import warnings\n",
    "warnings.simplefilter(action='ignore', category=FutureWarning)\n",
    "warnings.simplefilter(action='ignore', category=UserWarning)"
   ]
  },
  {
   "cell_type": "code",
   "execution_count": 7,
   "metadata": {},
   "outputs": [],
   "source": [
    "df = pd.read_csv('saida_sem_outliers.csv')\n",
    "df = df.drop(columns=['Gols 1'])"
   ]
  },
  {
   "cell_type": "code",
   "execution_count": 8,
   "metadata": {},
   "outputs": [
    {
     "name": "stdout",
     "output_type": "stream",
     "text": [
      "<class 'pandas.core.frame.DataFrame'>\n",
      "RangeIndex: 24503 entries, 0 to 24502\n",
      "Data columns (total 39 columns):\n",
      " #   Column               Non-Null Count  Dtype  \n",
      "---  ------               --------------  -----  \n",
      " 0   Chutes a gol 1       24491 non-null  float64\n",
      " 1   Chutes a gol 2       24491 non-null  float64\n",
      " 2   Impedimentos 1       24059 non-null  float64\n",
      " 3   Impedimentos 2       24059 non-null  float64\n",
      " 4   Escanteios 1         24494 non-null  float64\n",
      " 5   Escanteios 2         24494 non-null  float64\n",
      " 6   Chutes fora 1        24497 non-null  float64\n",
      " 7   Chutes fora 2        24497 non-null  float64\n",
      " 8   Faltas 1             24498 non-null  float64\n",
      " 9   Faltas 2             24498 non-null  float64\n",
      " 10  Cartões amarelos 1   24503 non-null  float64\n",
      " 11  Cartões amarelos 2   24503 non-null  float64\n",
      " 12  Cartões vermelhos 1  24503 non-null  float64\n",
      " 13  Cartões vermelhos 2  24503 non-null  float64\n",
      " 14  Cruzamentos 1        8526 non-null   float64\n",
      " 15  Cruzamentos 2        8526 non-null   float64\n",
      " 16  Laterais 1           14574 non-null  float64\n",
      " 17  Laterais 2           14574 non-null  float64\n",
      " 18  Chutes bloqueados 1  8393 non-null   float64\n",
      " 19  Chutes bloqueados 2  8393 non-null   float64\n",
      " 20  Contra-ataques 1     5901 non-null   float64\n",
      " 21  Contra-ataques 2     5901 non-null   float64\n",
      " 22  Gols 2               24503 non-null  float64\n",
      " 23  Tiro de meta 1       11594 non-null  float64\n",
      " 24  Tiro de meta 2       11594 non-null  float64\n",
      " 25  Tratamentos 1        4744 non-null   float64\n",
      " 26  Tratamentos 2        4744 non-null   float64\n",
      " 27  Substituições 1      9025 non-null   float64\n",
      " 28  Substituições 2      9025 non-null   float64\n",
      " 29  Tiros-livres 1       6131 non-null   float64\n",
      " 30  Tiros-livres 2       6131 non-null   float64\n",
      " 31  Defesas difíceis 1   6083 non-null   float64\n",
      " 32  Defesas difíceis 2   6083 non-null   float64\n",
      " 33  Posse 1(%)           24503 non-null  float64\n",
      " 34  Posse 2(%)           24503 non-null  float64\n",
      " 35  Time 1               24503 non-null  object \n",
      " 36  Time 2               24503 non-null  object \n",
      " 37  Position 1           23342 non-null  object \n",
      " 38  Position 2           23314 non-null  object \n",
      "dtypes: float64(35), object(4)\n",
      "memory usage: 7.3+ MB\n"
     ]
    }
   ],
   "source": [
    "df.info()"
   ]
  },
  {
   "cell_type": "code",
   "execution_count": 9,
   "metadata": {},
   "outputs": [
    {
     "name": "stdout",
     "output_type": "stream",
     "text": [
      "<class 'pandas.core.frame.DataFrame'>\n",
      "RangeIndex: 24503 entries, 0 to 24502\n",
      "Data columns (total 40 columns):\n",
      " #   Column               Non-Null Count  Dtype  \n",
      "---  ------               --------------  -----  \n",
      " 0   Chutes a gol 1       24491 non-null  float64\n",
      " 1   Chutes a gol 2       24491 non-null  float64\n",
      " 2   Impedimentos 1       24059 non-null  float64\n",
      " 3   Impedimentos 2       24059 non-null  float64\n",
      " 4   Escanteios 1         24494 non-null  float64\n",
      " 5   Escanteios 2         24494 non-null  float64\n",
      " 6   Chutes fora 1        24497 non-null  float64\n",
      " 7   Chutes fora 2        24497 non-null  float64\n",
      " 8   Faltas 1             24498 non-null  float64\n",
      " 9   Faltas 2             24498 non-null  float64\n",
      " 10  Cartões amarelos 1   24503 non-null  float64\n",
      " 11  Cartões amarelos 2   24503 non-null  float64\n",
      " 12  Cartões vermelhos 1  24503 non-null  float64\n",
      " 13  Cartões vermelhos 2  24503 non-null  float64\n",
      " 14  Cruzamentos 1        8526 non-null   float64\n",
      " 15  Cruzamentos 2        8526 non-null   float64\n",
      " 16  Laterais 1           14574 non-null  float64\n",
      " 17  Laterais 2           14574 non-null  float64\n",
      " 18  Chutes bloqueados 1  8393 non-null   float64\n",
      " 19  Chutes bloqueados 2  8393 non-null   float64\n",
      " 20  Contra-ataques 1     5901 non-null   float64\n",
      " 21  Contra-ataques 2     5901 non-null   float64\n",
      " 22  Gols 1               24503 non-null  float64\n",
      " 23  Gols 2               24503 non-null  float64\n",
      " 24  Tiro de meta 1       11594 non-null  float64\n",
      " 25  Tiro de meta 2       11594 non-null  float64\n",
      " 26  Tratamentos 1        4744 non-null   float64\n",
      " 27  Tratamentos 2        4744 non-null   float64\n",
      " 28  Substituições 1      9025 non-null   float64\n",
      " 29  Substituições 2      9025 non-null   float64\n",
      " 30  Tiros-livres 1       6131 non-null   float64\n",
      " 31  Tiros-livres 2       6131 non-null   float64\n",
      " 32  Defesas difíceis 1   6083 non-null   float64\n",
      " 33  Defesas difíceis 2   6083 non-null   float64\n",
      " 34  Posse 1(%)           24503 non-null  float64\n",
      " 35  Posse 2(%)           24503 non-null  float64\n",
      " 36  Time 1               24503 non-null  object \n",
      " 37  Time 2               24503 non-null  object \n",
      " 38  Position 1           23342 non-null  object \n",
      " 39  Position 2           23314 non-null  object \n",
      "dtypes: float64(36), object(4)\n",
      "memory usage: 7.5+ MB\n"
     ]
    }
   ],
   "source": [
    "df = pd.read_csv('saida_sem_outliers.csv')\n",
    "df.info()"
   ]
  }
 ],
 "metadata": {
  "kernelspec": {
   "display_name": "Python 3",
   "language": "python",
   "name": "python3"
  },
  "language_info": {
   "codemirror_mode": {
    "name": "ipython",
    "version": 3
   },
   "file_extension": ".py",
   "mimetype": "text/x-python",
   "name": "python",
   "nbconvert_exporter": "python",
   "pygments_lexer": "ipython3",
   "version": "3.12.6"
  }
 },
 "nbformat": 4,
 "nbformat_minor": 5
}
