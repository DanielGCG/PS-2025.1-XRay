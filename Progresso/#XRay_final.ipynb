{
 "cells": [
  {
   "cell_type": "code",
   "execution_count": 1,
   "id": "30d15335",
   "metadata": {},
   "outputs": [],
   "source": [
    "import pandas as pd\n",
    "import matplotlib.pyplot as plt\n",
    "import seaborn as sns\n",
    "import matplotlib.pyplot as plt\n",
    "from sklearn.neighbors import KNeighborsRegressor\n",
    "import warnings\n",
    "warnings.simplefilter(action='ignore', category=FutureWarning)"
   ]
  },
  {
   "cell_type": "markdown",
   "id": "789ecd2a",
   "metadata": {},
   "source": [
    "# Análise exploratória de dados\n",
    "\n",
    "- Limpeza de outliers\n",
    "- Análise da utilidade de colunas para o modelo final\n",
    "- Preenchimento de colunas com nulos / Desconsideração de coluna"
   ]
  },
  {
   "cell_type": "markdown",
   "id": "168e783f",
   "metadata": {},
   "source": [
    "## Vamos nos livrar dos pontos fora da curva (outliers)"
   ]
  },
  {
   "cell_type": "markdown",
   "id": "c31b05e7",
   "metadata": {},
   "source": [
    "### Como limparemos esses outliers?"
   ]
  },
  {
   "cell_type": "markdown",
   "id": "3288fc89",
   "metadata": {},
   "source": [
    "### O que concluímos?"
   ]
  },
  {
   "cell_type": "markdown",
   "id": "80adf0e9",
   "metadata": {},
   "source": [
    "## Vamos analisar as colunas individualmente"
   ]
  },
  {
   "cell_type": "markdown",
   "id": "79bee987",
   "metadata": {},
   "source": [
    "### Chutes a gol"
   ]
  },
  {
   "cell_type": "markdown",
   "id": "6d2e28a9",
   "metadata": {},
   "source": [
    "### Impedimentos"
   ]
  },
  {
   "cell_type": "markdown",
   "id": "ca4010aa",
   "metadata": {},
   "source": [
    "### Escanteios"
   ]
  },
  {
   "cell_type": "markdown",
   "id": "51b6a284",
   "metadata": {},
   "source": [
    "### Chutes fora"
   ]
  },
  {
   "cell_type": "markdown",
   "id": "357e2d34",
   "metadata": {},
   "source": [
    "### Faltas"
   ]
  },
  {
   "cell_type": "markdown",
   "id": "1e278dea",
   "metadata": {},
   "source": [
    "### Cruzamentos"
   ]
  },
  {
   "cell_type": "markdown",
   "id": "c39dca8a",
   "metadata": {},
   "source": [
    "### Laterais"
   ]
  },
  {
   "cell_type": "markdown",
   "id": "d9ae905a",
   "metadata": {},
   "source": [
    "### Chutes bloqueados"
   ]
  },
  {
   "cell_type": "markdown",
   "id": "56c57697",
   "metadata": {},
   "source": [
    "### Contra-ataques"
   ]
  },
  {
   "cell_type": "markdown",
   "id": "3f0e870b",
   "metadata": {},
   "source": [
    "### Tiro de meta"
   ]
  },
  {
   "cell_type": "markdown",
   "id": "8c5835d0",
   "metadata": {},
   "source": [
    "### Tratamentos"
   ]
  },
  {
   "cell_type": "markdown",
   "id": "897b1705",
   "metadata": {},
   "source": [
    "### Substituições"
   ]
  },
  {
   "cell_type": "markdown",
   "id": "ab063af6",
   "metadata": {},
   "source": [
    "### Tiros-livres"
   ]
  },
  {
   "cell_type": "markdown",
   "id": "896d2a90",
   "metadata": {},
   "source": [
    "### Defesas difíceis"
   ]
  },
  {
   "cell_type": "markdown",
   "id": "6feba80b",
   "metadata": {},
   "source": [
    "### Posse"
   ]
  },
  {
   "cell_type": "markdown",
   "id": "309985b8",
   "metadata": {},
   "source": [
    "### Position"
   ]
  },
  {
   "cell_type": "markdown",
   "id": "a3a90fd2",
   "metadata": {},
   "source": [
    "## Conclusões da analise de colunas"
   ]
  },
  {
   "cell_type": "markdown",
   "id": "d77f9eea",
   "metadata": {},
   "source": [
    "# Modelagem"
   ]
  }
 ],
 "metadata": {
  "kernelspec": {
   "display_name": "Python 3",
   "language": "python",
   "name": "python3"
  },
  "language_info": {
   "codemirror_mode": {
    "name": "ipython",
    "version": 3
   },
   "file_extension": ".py",
   "mimetype": "text/x-python",
   "name": "python",
   "nbconvert_exporter": "python",
   "pygments_lexer": "ipython3",
   "version": "3.12.6"
  }
 },
 "nbformat": 4,
 "nbformat_minor": 5
}
